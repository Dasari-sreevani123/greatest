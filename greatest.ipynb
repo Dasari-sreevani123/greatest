{
 "cells": [
  {
   "cell_type": "code",
   "execution_count": 6,
   "metadata": {},
   "outputs": [
    {
     "name": "stdout",
     "output_type": "stream",
     "text": [
      "8 is greaater\n"
     ]
    }
   ],
   "source": [
    "#greatest of two numbers   Method---1\n",
    "n1 = int(input(\"enter a number:\"))   # n1=7\n",
    "n2 = int(input(\"enter a number:\"))   #n2=8\n",
    "if n1 > n2:\n",
    "    print(f\"{n1} is greater\")\n",
    "else:\n",
    "    print(f\"{n2} is greaater\")"
   ]
  },
  {
   "cell_type": "code",
   "execution_count": 7,
   "metadata": {},
   "outputs": [
    {
     "name": "stdout",
     "output_type": "stream",
     "text": [
      "n1 is greater\n"
     ]
    }
   ],
   "source": [
    "#greatest of two numbers   Method---2\n",
    "n1 = int(input(\"enter a number:\"))   #n1=5\n",
    "n2 = int(input(\"enter a number:\"))   #n2=2\n",
    "print(\"n1 is greater\") if n1>n2 else \"n2 is greater\""
   ]
  },
  {
   "cell_type": "code",
   "execution_count": 8,
   "metadata": {},
   "outputs": [
    {
     "name": "stdout",
     "output_type": "stream",
     "text": [
      "445\n"
     ]
    }
   ],
   "source": [
    "#greatest of two numbers   Method---3\n",
    "n1 = int(input(\"enter a number:\"))   #n1=445\n",
    "n2 = int(input(\"enter a number:\"))   #n2=321\n",
    "print(max(n1,n2))"
   ]
  },
  {
   "cell_type": "code",
   "execution_count": 10,
   "metadata": {},
   "outputs": [
    {
     "name": "stdout",
     "output_type": "stream",
     "text": [
      "n3 is greater\n"
     ]
    }
   ],
   "source": [
    "#greatest of three numbers   Method---1\n",
    "n1 = int(input(\"enter a number:\"))   #n1=1\n",
    "n2 = int(input(\"enter a number:\"))   #n2=2\n",
    "n3 = int(input(\"enter a number:\"))   #n3=6\n",
    "if n1>n2 & n1>n3:\n",
    "    print(\"n1 is greater\")\n",
    "elif n2>n1 & n2>n3:\n",
    "    print(\"n2 is greater\")\n",
    "else:\n",
    "    print(\"n3 is greater\")\n"
   ]
  },
  {
   "cell_type": "code",
   "execution_count": 11,
   "metadata": {},
   "outputs": [
    {
     "name": "stdout",
     "output_type": "stream",
     "text": [
      "789\n"
     ]
    }
   ],
   "source": [
    "#greatest of three numbers   Method---3\n",
    "n1 = int(input(\"enter a number:\"))  #n1=78\n",
    "n2 = int(input(\"enter a number:\"))  #n2=789\n",
    "n3 = int(input(\"enter a number:\"))  #n3=67\n",
    "print(max(n1,n2,n3))"
   ]
  }
 ],
 "metadata": {
  "kernelspec": {
   "display_name": "Python 3",
   "language": "python",
   "name": "python3"
  },
  "language_info": {
   "codemirror_mode": {
    "name": "ipython",
    "version": 3
   },
   "file_extension": ".py",
   "mimetype": "text/x-python",
   "name": "python",
   "nbconvert_exporter": "python",
   "pygments_lexer": "ipython3",
   "version": "3.12.4"
  }
 },
 "nbformat": 4,
 "nbformat_minor": 2
}
